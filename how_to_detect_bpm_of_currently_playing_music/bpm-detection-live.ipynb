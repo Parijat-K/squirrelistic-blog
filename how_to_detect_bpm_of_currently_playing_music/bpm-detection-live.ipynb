{
 "cells": [
  {
   "attachments": {},
   "cell_type": "markdown",
   "metadata": {},
   "source": [
    "### What is it?\n",
    "\n",
    "This Python code detects beats per minute (BPM) of what is currently playing on computer.\n",
    "It was tested on Windows with Python v3.10.10.\n",
    "\n",
    "The intended use case is:\n",
    "- Run Spotify and play some music\n",
    "- Run the code to detect BPM\n",
    "\n",
    "It uses 3 Python components:\n",
    "- [PyAudio](https://pypi.org/project/PyAudio/) to record the audio\n",
    "- [PyAudioWPatch](https://pypi.org/project/PyAudioWPatch/) to be able to record sounds currently playing on the computer (to use loopback output device instead of microphone)\n",
    "- [librosa](https://librosa.org/) to detect the BPM\n",
    "\n",
    "The code records around 10 seconds of audio (which surprisingly takes 15 seconds) and shows the BPM.\n",
    "\n",
    "I've tested its accuracy using [online metronome](https://www.musicca.com/metronome) and it seems to be very precise. \n",
    "\n",
    "With Spotify I am getting mixed results, depending on the song.\n",
    "\n",
    "Sometimes, it detects half BPM if some mid-beats are weaker, so if the detected tempo is lower than 100bpm, I also show the double the value."
   ]
  },
  {
   "attachments": {},
   "cell_type": "markdown",
   "metadata": {},
   "source": [
    "### Dependencies\n",
    "\n",
    "```\n",
    "pip install PyAudio==0.2.12\n",
    "pip install PyAudioWPatch==0.2.12.5\n",
    "pip install librosa==0.10.0\n",
    "```"
   ]
  },
  {
   "cell_type": "code",
   "execution_count": null,
   "metadata": {},
   "outputs": [],
   "source": [
    "import pyaudiowpatch as pyaudio\n",
    "import numpy as np\n",
    "import librosa\n",
    "\n",
    "RECORD_SECONDS = 10\n",
    "\n",
    "with pyaudio.PyAudio() as p:\n",
    "    wasapi_info = p.get_host_api_info_by_type(pyaudio.paWASAPI)\n",
    "    default_speakers = p.get_device_info_by_index(wasapi_info[\"defaultOutputDevice\"])\n",
    "\n",
    "    if not default_speakers[\"isLoopbackDevice\"]:\n",
    "        for loopback in p.get_loopback_device_info_generator():\n",
    "            if default_speakers[\"name\"] in loopback[\"name\"]:\n",
    "                default_speakers = loopback\n",
    "                break\n",
    "        else:\n",
    "            print(\"Default loopback output device not found 😭\")\n",
    "            exit()\n",
    "\n",
    "    sampleRate = int(default_speakers['defaultSampleRate'])\n",
    "    chunk = sampleRate * RECORD_SECONDS\n",
    "\n",
    "    stream = p.open(format = pyaudio.paFloat32,\n",
    "                    channels = 1,\n",
    "                    rate = sampleRate,\n",
    "                    input = True,\n",
    "                    input_device_index = default_speakers['index'],\n",
    "                    frames_per_buffer = chunk)\n",
    "\n",
    "    print(f\"Recording {RECORD_SECONDS} seconds from {default_speakers['index']} {default_speakers['name']} 🎤\")\n",
    "    sound = stream.read(chunk)\n",
    "    print(\"Recording complete 🎹\")\n",
    "\n",
    "    stream.stop_stream()\n",
    "    stream.close()\n",
    "\n",
    "    print(\"Analysing BPM 🎵\")\n",
    "    np_sound = np.frombuffer(sound, dtype=np.float32)\n",
    "    tempo, beat_frames = librosa.beat.beat_track(y=np_sound, sr=sampleRate)\n",
    "    if (tempo < 100):\n",
    "        print(f'Estimated tempo: {round(tempo)} or {round(tempo * 2)} bpm')\n",
    "    else:\n",
    "        print(f'Estimated tempo: {round(tempo)} bpm')"
   ]
  }
 ],
 "metadata": {
  "language_info": {
   "codemirror_mode": {
    "name": "ipython",
    "version": 3
   },
   "file_extension": ".py",
   "mimetype": "text/x-python",
   "name": "python",
   "nbconvert_exporter": "python",
   "pygments_lexer": "ipython3",
   "version": "3.10.10"
  },
  "orig_nbformat": 4
 },
 "nbformat": 4,
 "nbformat_minor": 2
}
