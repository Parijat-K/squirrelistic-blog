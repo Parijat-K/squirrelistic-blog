{
 "cells": [
  {
   "cell_type": "code",
   "execution_count": null,
   "metadata": {},
   "outputs": [],
   "source": [
    "# AsciiTextExtractor is a helper class to convert binary exe file to ascii text.\n",
    "# It preserves only characters with ascii codes 10 and 32-127.\n",
    "# It has iterator to look for content starting and ending with specific text.\n",
    "# This is used to search for XML opening and closing tags.\n",
    "    \n",
    "class AsciiTextExtractor:\n",
    "    def __init__(self, content, beginTxt, endTxt):\n",
    "        self.__beginTxt = beginTxt\n",
    "        self.__endTxt = endTxt\n",
    "\n",
    "        filteredContent = bytearray(\n",
    "            filter(lambda x: x == 10 or (x >= 32 and x < 127), content)\n",
    "        )\n",
    "        self.__contentTxt = filteredContent.decode(\"ascii\")\n",
    "\n",
    "    def __iter__(self):\n",
    "        self.__idxEnd = 0\n",
    "        self.__idxBegin = 0\n",
    "        return self\n",
    "\n",
    "    def __next__(self):\n",
    "        if self.__idxBegin == -1:\n",
    "            raise StopIteration\n",
    "\n",
    "        self.__idxBegin = self.__contentTxt.find(self.__beginTxt, self.__idxEnd)\n",
    "        if self.__idxBegin == -1:\n",
    "            raise StopIteration\n",
    "\n",
    "        self.__idxEnd = self.__contentTxt.find(\n",
    "            self.__endTxt, self.__idxBegin + len(self.__beginTxt)\n",
    "        )\n",
    "        if self.__idxEnd == -1:\n",
    "            raise StopIteration\n",
    "\n",
    "        return self.__contentTxt[self.__idxBegin : self.__idxEnd + len(self.__endTxt)]"
   ]
  },
  {
   "cell_type": "code",
   "execution_count": null,
   "metadata": {},
   "outputs": [],
   "source": [
    "# GetMsDownloadLinks downloads MS SQL exe installer file (around 6 Mbytes) and search for all little XMLs from the binary file.\n",
    "# Then it parses XMLs to extract download URLs and SHA1 hashes.\n",
    "\n",
    "import requests\n",
    "from xml.dom.minidom import parseString\n",
    "\n",
    "def GetMsDownloadLinks(msInstallerExeUrl):\n",
    "    print(f\"Requesting {msInstallerExeUrl}\")\n",
    "    request = requests.get(msInstallerExeUrl, allow_redirects=True)\n",
    "    print(f\"Downloaded {request.url}\")\n",
    "    beginTxt = '<Manifest xmlns=\"http://schemas.datacontract.org/2004/07/InstallerEngine\" xmlns:i=\"http://www.w3.org/2001/XMLSchema-instance\">'\n",
    "    endTxt = \"</Manifest>\"\n",
    "    for txt in AsciiTextExtractor(request.content, beginTxt, endTxt):\n",
    "        xml = parseString(txt)\n",
    "        reliableFiles = xml.getElementsByTagName(\"ReliableFile\")\n",
    "        for reliableFile in reliableFiles:\n",
    "            downloadRoot = reliableFile.getElementsByTagName(\"DownloadRoot\")\n",
    "            fileName = reliableFile.getElementsByTagName(\"FileName\")\n",
    "            fileHash = reliableFile.getElementsByTagName(\"FileHash\")\n",
    "            if downloadRoot and fileName and fileHash:\n",
    "                downloadUrl = f\"{downloadRoot[0].firstChild.nodeValue}/{fileName[0].firstChild.nodeValue}\"\n",
    "                sha1Hash = f\"{fileHash[0].firstChild.nodeValue}\"\n",
    "                yield (downloadUrl, sha1Hash)"
   ]
  },
  {
   "cell_type": "code",
   "execution_count": null,
   "metadata": {},
   "outputs": [],
   "source": [
    "# GetMsSqlDownloadLinks is a wrapper around GetMsDownloadLinks\n",
    "# It knows the SQL binary links, removes duplicates and sorts the results.\n",
    "# It also allows filtering, e.g. for specific language or edition.\n",
    "\n",
    "import os\n",
    "\n",
    "sqlExelinks = {\n",
    "    2017: \"https://go.microsoft.com/fwlink/?linkid=853016\",  # SQL Server 2017\n",
    "    2019: \"https://go.microsoft.com/fwlink/?linkid=866662\",  # SQL Server 2019\n",
    "    2022: \"https://go.microsoft.com/fwlink/?linkid=2215158\", # SQL Server 2022\n",
    "}\n",
    "\n",
    "# supported versions: 2022, 2019, 2017\n",
    "def GetMsSqlDownloadLinks(version=2022, searchFilter=\"\"):\n",
    "    sqlExeUrl = sqlExelinks[version]\n",
    "\n",
    "    # add links to the set to get rid of duplicates\n",
    "    msDownloadLinks = set(GetMsDownloadLinks(sqlExeUrl))\n",
    "    # add links to the to list, to be able to sort\n",
    "    sortedMsDownloadList = list(msDownloadLinks)\n",
    "    # sort by filename (x[0] is url)\n",
    "    sortedMsDownloadList.sort(key=lambda x: os.path.basename(x[0]))\n",
    "    \n",
    "    return filter(lambda x: searchFilter in x[0], sortedMsDownloadList)"
   ]
  },
  {
   "cell_type": "code",
   "execution_count": null,
   "metadata": {},
   "outputs": [],
   "source": [
    "# Print links to the english versions of MSSQL Server 2022 installer\n",
    "for link, sha1 in GetMsSqlDownloadLinks(2022, \"ENU\"):\n",
    "    print(f\"{link} {sha1=}\")"
   ]
  },
  {
   "cell_type": "code",
   "execution_count": null,
   "metadata": {},
   "outputs": [],
   "source": [
    "# Let's save all the links to files\n",
    "def saveSqlLinks(filename, sqlLinks):\n",
    "    with open(filename, \"w\") as f:\n",
    "        for link, sha1 in sqlLinks:\n",
    "            f.write(f\"{link} {sha1=}\\n\")\n",
    "\n",
    "sql2017links = GetMsSqlDownloadLinks(version=2017)\n",
    "sql2019links = GetMsSqlDownloadLinks(version=2019)\n",
    "sql2022links = GetMsSqlDownloadLinks(version=2022)\n",
    "\n",
    "saveSqlLinks(\"sql-2017-links.txt\", sql2017links)\n",
    "saveSqlLinks(\"sql-2019-links.txt\", sql2019links)\n",
    "saveSqlLinks(\"sql-2022-links.txt\", sql2022links)"
   ]
  }
 ],
 "metadata": {
  "kernelspec": {
   "display_name": "learning-python",
   "language": "python",
   "name": "python3"
  },
  "language_info": {
   "codemirror_mode": {
    "name": "ipython",
    "version": 3
   },
   "file_extension": ".py",
   "mimetype": "text/x-python",
   "name": "python",
   "nbconvert_exporter": "python",
   "pygments_lexer": "ipython3",
   "version": "3.12.0"
  },
  "orig_nbformat": 4
 },
 "nbformat": 4,
 "nbformat_minor": 2
}
